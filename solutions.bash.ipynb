{
 "cells": [
  {
   "cell_type": "code",
   "execution_count": null,
   "id": "240b418d",
   "metadata": {},
   "outputs": [],
   "source": [
    "#Imprime en consola Hello World."
   ]
  },
  {
   "cell_type": "code",
   "execution_count": null,
   "id": "a924acdc",
   "metadata": {},
   "outputs": [],
   "source": [
    "echo 'Hello World'"
   ]
  },
  {
   "cell_type": "code",
   "execution_count": null,
   "id": "aa65b9ec",
   "metadata": {},
   "outputs": [],
   "source": [
    "#Crea un directorio nuevo llamado new_dir."
   ]
  },
  {
   "cell_type": "code",
   "execution_count": null,
   "id": "75f9c11a",
   "metadata": {},
   "outputs": [],
   "source": [
    "mkdir 'nuevo_dir'"
   ]
  },
  {
   "cell_type": "code",
   "execution_count": null,
   "id": "4fe321b4",
   "metadata": {},
   "outputs": [],
   "source": [
    "#Elimina ese directorio."
   ]
  },
  {
   "cell_type": "code",
   "execution_count": null,
   "id": "5b2ee33f",
   "metadata": {},
   "outputs": [],
   "source": [
    "rm -r 'nuevo_dir'"
   ]
  },
  {
   "cell_type": "code",
   "execution_count": null,
   "id": "443472ba",
   "metadata": {},
   "outputs": [],
   "source": [
    "#copia el archivo sed.txt dentro de la carpeta lorem a la carpeta lorem-copy. TIP: Puede ser necesario crear la carpeta lorem-copy primero."
   ]
  },
  {
   "cell_type": "code",
   "execution_count": null,
   "id": "cb4a84a6",
   "metadata": {},
   "outputs": [],
   "source": [
    "mkdir 'lorem-copy'\n",
    "cp /Users/alicia/desktop/ironhack/apuntes_clase/1.1-lab-bash/lorem/sed.txt /Users/alicia/desktop/ironhack/apuntes_clase/1.1-lab-bash/lorem-copy"
   ]
  },
  {
   "cell_type": "code",
   "execution_count": null,
   "id": "d4fc4319",
   "metadata": {},
   "outputs": [],
   "source": [
    "#Copia los otros dos archivos de la carpeta lorem a la carpeta lorem-copy en una sola línea."
   ]
  },
  {
   "cell_type": "markdown",
   "id": "c2126690",
   "metadata": {},
   "source": [
    "cp at.txt /Users/alicia/Desktop/ironhack/apuntes_clase/1.1-lab-bash/lorem-copy lorem.txt /Users/alicia/Desktop/ironhack/apuntes_clase/1.1-lab-bash/lorem-copy"
   ]
  },
  {
   "cell_type": "code",
   "execution_count": null,
   "id": "f7dd74d2",
   "metadata": {},
   "outputs": [],
   "source": [
    "#Muestra el contenido del archivo sed.txt dentro de la carpeta lorem."
   ]
  },
  {
   "cell_type": "code",
   "execution_count": null,
   "id": "512c967d",
   "metadata": {},
   "outputs": [],
   "source": [
    "cd lorem\n",
    "cat sed.txt"
   ]
  },
  {
   "cell_type": "code",
   "execution_count": null,
   "id": "9e856cc7",
   "metadata": {},
   "outputs": [],
   "source": [
    "#Muestra el contenido de los archivos at.txt y lorem.txt dentro de la carpeta lorem"
   ]
  },
  {
   "cell_type": "code",
   "execution_count": null,
   "id": "84e43fe7",
   "metadata": {},
   "outputs": [],
   "source": [
    "cat at.txt\n",
    "cat lorem.txt"
   ]
  },
  {
   "cell_type": "code",
   "execution_count": null,
   "id": "47cae0b0",
   "metadata": {},
   "outputs": [],
   "source": [
    "#Visualiza las primeras 3 líneas del archivo sed.txt dentro de la carpeta lorem-copy"
   ]
  },
  {
   "cell_type": "code",
   "execution_count": null,
   "id": "eb877765",
   "metadata": {},
   "outputs": [],
   "source": [
    "head sed.txt"
   ]
  },
  {
   "cell_type": "code",
   "execution_count": null,
   "id": "b229e423",
   "metadata": {},
   "outputs": [],
   "source": [
    "#Visualiza las ultimas 3 líneas del archivo sed.txt dentro de la carpeta lorem-copy"
   ]
  },
  {
   "cell_type": "code",
   "execution_count": null,
   "id": "acd7ea85",
   "metadata": {},
   "outputs": [],
   "source": [
    "tail sed.txt"
   ]
  },
  {
   "cell_type": "code",
   "execution_count": null,
   "id": "2d683532",
   "metadata": {},
   "outputs": [],
   "source": [
    "#Añade Homo homini lupus. al final de archivo sed.txt dentro de la carpeta lorem-copy."
   ]
  },
  {
   "cell_type": "code",
   "execution_count": null,
   "id": "6a21df0a",
   "metadata": {},
   "outputs": [],
   "source": [
    "cd lorem-copy\n",
    "echo 'Homo homini lupus' >> sed.txt"
   ]
  },
  {
   "cell_type": "code",
   "execution_count": null,
   "id": "ab60f3a2",
   "metadata": {},
   "outputs": [],
   "source": [
    "#Visualiza las últimas 3 líneas del archivo sed.txt dentro de la carpeta lorem-copy. Deberías ver ahora Homo homini lupus.."
   ]
  },
  {
   "cell_type": "code",
   "execution_count": null,
   "id": "f9e2bf9f",
   "metadata": {},
   "outputs": [],
   "source": [
    "tail sed.txt"
   ]
  },
  {
   "cell_type": "code",
   "execution_count": null,
   "id": "bfe95c7f",
   "metadata": {},
   "outputs": [],
   "source": [
    "#Sustituye todas las apariciones de et por ET del archivo at.txt dentro de la carpeta lorem-copy. Deberás usar sed."
   ]
  },
  {
   "cell_type": "code",
   "execution_count": null,
   "id": "ed9328f9",
   "metadata": {},
   "outputs": [],
   "source": [
    "sed 's/et/ET/' <sed.txt"
   ]
  },
  {
   "cell_type": "code",
   "execution_count": null,
   "id": "4d0483bc",
   "metadata": {},
   "outputs": [],
   "source": [
    "#Encuentra al usuario activo en el sistema."
   ]
  },
  {
   "cell_type": "code",
   "execution_count": null,
   "id": "c263ef0c",
   "metadata": {},
   "outputs": [],
   "source": [
    "w"
   ]
  },
  {
   "cell_type": "code",
   "execution_count": null,
   "id": "bd71f7c4",
   "metadata": {},
   "outputs": [],
   "source": [
    "#Encuentra dónde estás en tu sistema de ficheros."
   ]
  },
  {
   "cell_type": "code",
   "execution_count": null,
   "id": "62f8add5",
   "metadata": {},
   "outputs": [],
   "source": [
    "pwd"
   ]
  },
  {
   "cell_type": "code",
   "execution_count": null,
   "id": "95b1ad1e",
   "metadata": {},
   "outputs": [],
   "source": [
    "#Lista los archivos que terminan por .txt en la carpeta lorem."
   ]
  },
  {
   "cell_type": "code",
   "execution_count": null,
   "id": "9a55b69c",
   "metadata": {},
   "outputs": [],
   "source": [
    "cd ..\n",
    "cd lorem\n",
    "ls*txt"
   ]
  },
  {
   "cell_type": "code",
   "execution_count": null,
   "id": "52734d83",
   "metadata": {},
   "outputs": [],
   "source": [
    "#Cuenta el número de líneas que tiene el archivo sed.txt dentro de la carpeta lorem."
   ]
  },
  {
   "cell_type": "code",
   "execution_count": null,
   "id": "35870c27",
   "metadata": {},
   "outputs": [],
   "source": [
    "wc sed.txt"
   ]
  },
  {
   "cell_type": "code",
   "execution_count": null,
   "id": "5fdf42c8",
   "metadata": {},
   "outputs": [],
   "source": [
    "#Cuenta el número de archivos que empiezan por lorem que están en este directorio y en directorios internos."
   ]
  },
  {
   "cell_type": "code",
   "execution_count": null,
   "id": "90e400e2",
   "metadata": {},
   "outputs": [],
   "source": [
    "find . -name lorem.txt | wc -l"
   ]
  },
  {
   "cell_type": "code",
   "execution_count": null,
   "id": "b3f2b28e",
   "metadata": {},
   "outputs": [],
   "source": [
    "#Encuentra todas las apariciones de et en at.txt dentro de la carpeta lorem."
   ]
  },
  {
   "cell_type": "code",
   "execution_count": null,
   "id": "74f03edc",
   "metadata": {},
   "outputs": [],
   "source": [
    "grep -o -i 'et' at.txt"
   ]
  },
  {
   "cell_type": "code",
   "execution_count": null,
   "id": "78f72d2e",
   "metadata": {},
   "outputs": [],
   "source": [
    "#Cuenta el número de apariciones del string et en at.txt dentro de la carpeta lorem."
   ]
  },
  {
   "cell_type": "code",
   "execution_count": null,
   "id": "ee40edac",
   "metadata": {},
   "outputs": [],
   "source": [
    "grep -o -i 'et' at.txt | wc -l"
   ]
  },
  {
   "cell_type": "code",
   "execution_count": null,
   "id": "bef5f88e",
   "metadata": {},
   "outputs": [],
   "source": [
    "#Cuenta el número de apariciones del string et en todos los archivos del directorio lorem-copy."
   ]
  },
  {
   "cell_type": "code",
   "execution_count": null,
   "id": "aeaaae80",
   "metadata": {},
   "outputs": [],
   "source": [
    "cd ..\n",
    "grep -o 'et' lorem-copy/* | wc -l"
   ]
  }
 ],
 "metadata": {
  "kernelspec": {
   "display_name": "clase",
   "language": "python",
   "name": "clase"
  },
  "language_info": {
   "codemirror_mode": {
    "name": "ipython",
    "version": 3
   },
   "file_extension": ".py",
   "mimetype": "text/x-python",
   "name": "python",
   "nbconvert_exporter": "python",
   "pygments_lexer": "ipython3",
   "version": "3.7.13"
  }
 },
 "nbformat": 4,
 "nbformat_minor": 5
}
