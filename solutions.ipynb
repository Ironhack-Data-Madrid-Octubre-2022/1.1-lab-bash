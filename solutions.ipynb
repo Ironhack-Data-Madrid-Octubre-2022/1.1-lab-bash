{
 "cells": [
  {
   "cell_type": "markdown",
   "id": "32f3c733",
   "metadata": {},
   "source": []
  },
  {
   "cell_type": "markdown",
   "id": "66c39233",
   "metadata": {},
   "source": [
    "Imprime en consola Hello World."
   ]
  },
  {
   "cell_type": "code",
   "execution_count": null,
   "id": "80900787",
   "metadata": {},
   "outputs": [],
   "source": [
    "echo 'Hello World.'"
   ]
  },
  {
   "cell_type": "markdown",
   "id": "684e7a6b",
   "metadata": {},
   "source": [
    "Crea un directorio nuevo llamado new_dir."
   ]
  },
  {
   "cell_type": "code",
   "execution_count": null,
   "id": "6ef3fbdc",
   "metadata": {},
   "outputs": [],
   "source": [
    "mkdir new_dir"
   ]
  },
  {
   "cell_type": "markdown",
   "id": "cdc3e599",
   "metadata": {},
   "source": [
    "Elimina ese directorio."
   ]
  },
  {
   "cell_type": "code",
   "execution_count": null,
   "id": "85286d6d",
   "metadata": {},
   "outputs": [],
   "source": [
    "rmdir new_dir"
   ]
  },
  {
   "cell_type": "markdown",
   "id": "38a3edd7",
   "metadata": {},
   "source": [
    "Copia el archivo sed.txt dentro de la carpeta lorem a la carpeta lorem-copy. TIP: Puede ser necesario crear la carpeta lorem-copy primero."
   ]
  },
  {
   "cell_type": "code",
   "execution_count": null,
   "id": "6317d3db",
   "metadata": {},
   "outputs": [],
   "source": [
    "cp sed.txt ~/Onedrive/Escritorio/Ironhack/Labs/Day1/1.1-lab-bash/lorem-copy\n"
   ]
  },
  {
   "cell_type": "markdown",
   "id": "aaab9d3e",
   "metadata": {},
   "source": [
    "Copia los otros dos archivos de la carpeta lorem a la carpeta lorem-copy en una sola línea."
   ]
  },
  {
   "cell_type": "code",
   "execution_count": null,
   "id": "0c9fe3eb",
   "metadata": {},
   "outputs": [],
   "source": [
    "cp at.txt lorem.txt ~/Onedrive/Escritorio/Ironhack/Labs/Day1/1.1-lab-bash/lorem-copy\n"
   ]
  },
  {
   "cell_type": "markdown",
   "id": "660c3f5e",
   "metadata": {},
   "source": [
    "Muestra el contenido del archivo sed.txt dentro de la carpeta lorem."
   ]
  },
  {
   "cell_type": "code",
   "execution_count": null,
   "id": "2fbf5e4e",
   "metadata": {},
   "outputs": [],
   "source": [
    "cat sed.txt"
   ]
  },
  {
   "cell_type": "markdown",
   "id": "26c0b000",
   "metadata": {},
   "source": [
    "Muestra el contenido de los archivos at.txt y lorem.txt dentro de la carpeta lorem."
   ]
  },
  {
   "cell_type": "code",
   "execution_count": null,
   "id": "f23a2445",
   "metadata": {},
   "outputs": [],
   "source": [
    "cat at.txt lorem.txt"
   ]
  },
  {
   "cell_type": "markdown",
   "id": "658f128c",
   "metadata": {},
   "source": [
    "Visualiza las primeras 3 líneas del archivo sed.txt dentro de la carpeta lorem-copy"
   ]
  },
  {
   "cell_type": "code",
   "execution_count": null,
   "id": "4507f7fb",
   "metadata": {},
   "outputs": [],
   "source": [
    "head -3 sed.txt"
   ]
  },
  {
   "cell_type": "markdown",
   "id": "f522ce30",
   "metadata": {},
   "source": [
    "Visualiza las ultimas 3 líneas del archivo sed.txt dentro de la carpeta lorem-copy"
   ]
  },
  {
   "cell_type": "code",
   "execution_count": null,
   "id": "3e5b4771",
   "metadata": {},
   "outputs": [],
   "source": [
    "tail -3 sed.txt"
   ]
  },
  {
   "cell_type": "markdown",
   "id": "f3ae0810",
   "metadata": {},
   "source": [
    "Añade Homo homini lupus. al final de archivo sed.txt dentro de la carpeta lorem-copy."
   ]
  },
  {
   "cell_type": "code",
   "execution_count": null,
   "id": "2d03338f",
   "metadata": {},
   "outputs": [],
   "source": [
    "nano sed.txt\n",
    "\n",
    "Se abre el editor de texto con el texto original de sed.txt\n",
    "\n",
    "Luego escribes el texto en el editor y para salir y guardar CTRL+X y para confirmar Y(yes) y Enter\n",
    "\n",
    "-------------------------------------------------------------------------------------------------\n",
    "\n",
    "\n",
    "Tambien se puede insertar usando el comando:\n",
    "    \n",
    "echo 'Homo homini lupus.' >> sed.txt\n"
   ]
  },
  {
   "cell_type": "markdown",
   "id": "3980e4fe",
   "metadata": {},
   "source": [
    "Visualiza las últimas 3 líneas del archivo sed.txt dentro de la carpeta lorem-copy. Deberías ver ahora Homo homini lupus.."
   ]
  },
  {
   "cell_type": "code",
   "execution_count": null,
   "id": "24546aa6",
   "metadata": {},
   "outputs": [],
   "source": [
    "tail -3 sed.txt"
   ]
  },
  {
   "cell_type": "markdown",
   "id": "0579be18",
   "metadata": {},
   "source": [
    "Sustituye todas las apariciones de et por ET del archivo at.txt dentro de la carpeta lorem-copy. Deberás usar sed."
   ]
  },
  {
   "cell_type": "code",
   "execution_count": null,
   "id": "e2908bf4",
   "metadata": {},
   "outputs": [],
   "source": [
    "sed -i s/et/ET/g at.txt"
   ]
  },
  {
   "cell_type": "markdown",
   "id": "46818827",
   "metadata": {},
   "source": [
    "Encuentra al usuario activo en el sistema."
   ]
  },
  {
   "cell_type": "code",
   "execution_count": null,
   "id": "55260a79",
   "metadata": {},
   "outputs": [],
   "source": [
    "whoami"
   ]
  },
  {
   "cell_type": "markdown",
   "id": "44aba619",
   "metadata": {},
   "source": [
    "Encuentra dónde estás en tu sistema de ficheros."
   ]
  },
  {
   "cell_type": "code",
   "execution_count": null,
   "id": "58f2c700",
   "metadata": {},
   "outputs": [],
   "source": [
    "pwd"
   ]
  },
  {
   "cell_type": "markdown",
   "id": "2ea66d9f",
   "metadata": {},
   "source": [
    "Lista los archivos que terminan por .txt en la carpeta lorem."
   ]
  },
  {
   "cell_type": "code",
   "execution_count": null,
   "id": "1ca4da76",
   "metadata": {},
   "outputs": [],
   "source": [
    "ls | grep \\.txt"
   ]
  },
  {
   "cell_type": "markdown",
   "id": "0a3e645d",
   "metadata": {},
   "source": [
    "Cuenta el número de líneas que tiene el archivo sed.txt dentro de la carpeta lorem."
   ]
  },
  {
   "cell_type": "code",
   "execution_count": null,
   "id": "163ac699",
   "metadata": {},
   "outputs": [],
   "source": [
    "sed -n '$=' sed.txt"
   ]
  },
  {
   "cell_type": "markdown",
   "id": "73c3038a",
   "metadata": {},
   "source": [
    "Cuenta el número de archivos que empiezan por lorem que están en este directorio y en directorios internos."
   ]
  },
  {
   "cell_type": "code",
   "execution_count": null,
   "id": "9716bdf5",
   "metadata": {},
   "outputs": [],
   "source": [
    "find . -iname \"lorem*\" -type f |wc -l"
   ]
  },
  {
   "cell_type": "markdown",
   "id": "0df4c30a",
   "metadata": {},
   "source": [
    "Encuentra todas las apariciones de et en at.txt dentro de la carpeta lorem."
   ]
  },
  {
   "cell_type": "code",
   "execution_count": null,
   "id": "972c0cad",
   "metadata": {},
   "outputs": [],
   "source": [
    "grep ' et ' at.txt"
   ]
  },
  {
   "cell_type": "markdown",
   "id": "da8cf69a",
   "metadata": {},
   "source": [
    "Cuenta el número de apariciones del string et en at.txt dentro de la carpeta lorem."
   ]
  },
  {
   "cell_type": "code",
   "execution_count": null,
   "id": "ae08f3e8",
   "metadata": {},
   "outputs": [],
   "source": [
    "grep -o -i et at.txt | wc -l"
   ]
  },
  {
   "cell_type": "markdown",
   "id": "c1cbdbcb",
   "metadata": {},
   "source": [
    "Cuenta el número de apariciones del string et en todos los archivos del directorio lorem-copy."
   ]
  },
  {
   "cell_type": "code",
   "execution_count": null,
   "id": "948be300",
   "metadata": {},
   "outputs": [],
   "source": [
    "grep -o -i et ./* | wc -l"
   ]
  }
 ],
 "metadata": {
  "kernelspec": {
   "display_name": "Python 3 (ipykernel)",
   "language": "python",
   "name": "python3"
  },
  "language_info": {
   "codemirror_mode": {
    "name": "ipython",
    "version": 3
   },
   "file_extension": ".py",
   "mimetype": "text/x-python",
   "name": "python",
   "nbconvert_exporter": "python",
   "pygments_lexer": "ipython3",
   "version": "3.10.4"
  }
 },
 "nbformat": 4,
 "nbformat_minor": 5
}
