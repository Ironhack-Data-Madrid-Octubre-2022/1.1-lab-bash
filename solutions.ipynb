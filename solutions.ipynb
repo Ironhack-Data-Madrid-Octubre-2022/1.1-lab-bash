{
 "cells": [
  {
   "cell_type": "code",
   "execution_count": 1,
   "id": "99cd960f",
   "metadata": {},
   "outputs": [
    {
     "ename": "SyntaxError",
     "evalue": "invalid syntax (1016081495.py, line 1)",
     "output_type": "error",
     "traceback": [
      "\u001b[1;36m  Cell \u001b[1;32mIn [1], line 1\u001b[1;36m\u001b[0m\n\u001b[1;33m    Imprime en consola Hello World.\u001b[0m\n\u001b[1;37m            ^\u001b[0m\n\u001b[1;31mSyntaxError\u001b[0m\u001b[1;31m:\u001b[0m invalid syntax\n"
     ]
    }
   ],
   "source": [
    "Imprime en consola Hello World.\n",
    "echo Hello world\n",
    "\n"
   ]
  },
  {
   "cell_type": "code",
   "execution_count": 2,
   "id": "cb0c19e6",
   "metadata": {},
   "outputs": [
    {
     "ename": "SyntaxError",
     "evalue": "invalid syntax (858947623.py, line 1)",
     "output_type": "error",
     "traceback": [
      "\u001b[1;36m  Cell \u001b[1;32mIn [2], line 1\u001b[1;36m\u001b[0m\n\u001b[1;33m    Entrar al directorio\u001b[0m\n\u001b[1;37m           ^\u001b[0m\n\u001b[1;31mSyntaxError\u001b[0m\u001b[1;31m:\u001b[0m invalid syntax\n"
     ]
    }
   ],
   "source": [
    "Entrar al directorio\n",
    "\n"
   ]
  },
  {
   "cell_type": "code",
   "execution_count": null,
   "id": "73f5714d",
   "metadata": {},
   "outputs": [],
   "source": [
    "Entrar al directorio\n",
    "\n",
    "$ cd Desktop\n",
    "$ cd 'Data analysis'\n",
    "$ cd 'apuntes_clase'\n",
    "$ cd '1.1-lab-bash'\n",
    "\n",
    "Crea un directorio nuevo llamado new_dir.\n",
    "\n",
    "$ mkdir new_dir\n",
    "\n",
    "Elimina ese directorio.\n",
    "\n",
    "$ rm -r new_dir\n",
    "\n",
    "Copia el archivo sed.txt dentro de la carpeta lorem a la carpeta lorem-copy. TIP: Puede ser necesario crear la carpeta lorem-copy primero.\n",
    "\n",
    "$ cd lorem\n",
    "$ mkdir lorem-copy\n",
    "$ cp sed.txt -t lorem-copy\n",
    "\n",
    "Copia los otros dos archivos de la carpeta lorem a la carpeta lorem-copy en una sola línea.\n",
    "\n",
    "$ ls\n",
    "$ cp at.txt lorem.txt -t lorem-copy\n",
    "\n",
    "Muestra el contenido del archivo sed.txt dentro de la carpeta lorem.\n",
    "\n",
    "$ cat sed.txt\n",
    "\n",
    "Muestra el contenido de los archivos at.txt y lorem.txt dentro de la carpeta lorem.\n",
    "\n",
    "$ cat at.txt lorem.txt\n",
    "\n",
    "Visualiza las primeras 3 líneas del archivo sed.txt dentro de la carpeta lorem-copy\n",
    "\n",
    "$ cd lorem-copy\n",
    "$ head -n3 sed.txt\n",
    "\n",
    "Visualiza las ultimas 3 líneas del archivo sed.txt dentro de la carpeta lorem-copy\n",
    "\n",
    "$ tail -n3 sed.txt\n",
    "\n",
    "Añade Homo homini lupus. al final de archivo sed.txt dentro de la carpeta lorem-copy.\n",
    "\n",
    "$ echo \"Homo homini lupus.\" >> sed.txt\n",
    "\n",
    "Visualiza las últimas 3 líneas del archivo sed.txt dentro de la carpeta lorem-copy. Deberías ver ahora Homo homini lupus..\n",
    "\n",
    "$ tail -n3 sed.txt\n",
    "\n",
    "Sustituye todas las apariciones de et por ET del archivo at.txt dentro de la carpeta lorem-copy. Deberás usar sed.\n",
    "\n",
    "$ sed -i 's/et/ET/g' \"at.txt\"\n",
    "$ cat at.txt\n",
    "\n",
    "Encuentra al usuario activo en el sistema.\n",
    "\n",
    "$ git config user.name\n",
    "\n",
    "Encuentra dónde estás en tu sistema de ficheros.\n",
    "\n",
    "$ pwd\n",
    "\n",
    "Lista los archivos que terminan por .txt en la carpeta lorem.\n",
    "\n",
    "$ cd ..\n",
    "$ ls *.txt\n",
    "\n",
    "Cuenta el número de líneas que tiene el archivo sed.txt dentro de la carpeta lorem.\n",
    "\n",
    "$ wc -l sed.txt\n",
    "\n",
    "Cuenta el número de archivos que empiezan por lorem que están en este directorio y en directorios internos.\n",
    "\n",
    "$ find -type f -iname \"lorem.txt\" | wc -l\n",
    "\n",
    "\n",
    "Encuentra todas las apariciones de et en at.txt dentro de la carpeta lorem.\n",
    "\n",
    "$ grep -o -i et at.txt | wc -l\n",
    "\n",
    "\n",
    "Cuenta el número de apariciones del string et en at.txt dentro de la carpeta lorem.\n",
    "\n",
    "$ grep -o -i string et at.txt | wc -l\n",
    "\n",
    "\n",
    "Cuenta el número de apariciones del string et en todos los archivos del directorio lorem-copy.\n",
    "\n",
    "$ cd 'lorem-copy'\n",
    "$ grep -o -i \"string et\" at.txt lorem.txt sed.txt | wc -l"
   ]
  }
 ],
 "metadata": {
  "kernelspec": {
   "display_name": "Clase",
   "language": "python",
   "name": "clase"
  },
  "language_info": {
   "codemirror_mode": {
    "name": "ipython",
    "version": 3
   },
   "file_extension": ".py",
   "mimetype": "text/x-python",
   "name": "python",
   "nbconvert_exporter": "python",
   "pygments_lexer": "ipython3",
   "version": "3.8.13"
  }
 },
 "nbformat": 4,
 "nbformat_minor": 5
}
