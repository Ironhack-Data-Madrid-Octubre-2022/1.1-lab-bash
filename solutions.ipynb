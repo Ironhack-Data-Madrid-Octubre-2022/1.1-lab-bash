{
 "cells": [
  {
   "cell_type": "raw",
   "id": "5ef01009",
   "metadata": {},
   "source": [
    "#Imprime en consola Hello World."
   ]
  },
  {
   "cell_type": "raw",
   "id": "c9dab125",
   "metadata": {},
   "source": [
    "echo 'Hello World'"
   ]
  },
  {
   "cell_type": "raw",
   "id": "5bdec8bb",
   "metadata": {},
   "source": [
    "#Crea un directorio nuevo llamado new_dir."
   ]
  },
  {
   "cell_type": "raw",
   "id": "06edfa6b",
   "metadata": {},
   "source": [
    "mkdir 'new_dir'"
   ]
  },
  {
   "cell_type": "raw",
   "id": "f2168ef4",
   "metadata": {},
   "source": [
    "#Elimina ese directorio."
   ]
  },
  {
   "cell_type": "raw",
   "id": "9e6b3faf",
   "metadata": {},
   "source": [
    "rm -r 'new_dir'"
   ]
  },
  {
   "cell_type": "raw",
   "id": "c4bdb50c",
   "metadata": {},
   "source": [
    "#Copia el archivo sed.txt dentro de la carpeta lorem a la carpeta lorem-copy. TIP: Puede ser necesario crear la carpeta lorem-copy primero."
   ]
  },
  {
   "cell_type": "raw",
   "id": "5ac6a638",
   "metadata": {},
   "source": [
    "mkdir 'lorem-copy'\n",
    "cp /Users/maria/Desktop/nueva/1.1-lab-bash/lorem/sed.txt /Users/maria/Desktop/nueva/1.1-lab-bash/lorem-copy"
   ]
  },
  {
   "cell_type": "raw",
   "id": "ddfc35ee",
   "metadata": {},
   "source": [
    "#Copia los otros dos archivos de la carpeta lorem a la carpeta lorem-copy en una sola línea."
   ]
  },
  {
   "cell_type": "raw",
   "id": "c57d46ea",
   "metadata": {},
   "source": [
    "cp at.txt /Users/maria/Desktop/nueva/1.1-lab-bash/lorem-copy lorem.txt /Users/maria/Desktop/nueva/1.1-lab-bash/lorem-copy"
   ]
  },
  {
   "cell_type": "raw",
   "id": "b65efdea",
   "metadata": {},
   "source": [
    "#Muestra el contenido del archivo sed.txt dentro de la carpeta lorem."
   ]
  },
  {
   "cell_type": "raw",
   "id": "0c96c60e",
   "metadata": {},
   "source": [
    "cat sed.txt"
   ]
  },
  {
   "cell_type": "raw",
   "id": "bea8268b",
   "metadata": {},
   "source": [
    "#Muestra el contenido de los archivos at.txt y lorem.txt dentro de la carpeta lorem."
   ]
  },
  {
   "cell_type": "raw",
   "id": "127fd300",
   "metadata": {},
   "source": [
    "cat at.txt\n",
    "cat lorem.txt"
   ]
  },
  {
   "cell_type": "raw",
   "id": "4e6c13ce",
   "metadata": {},
   "source": [
    "#Visualiza las primeras 3 líneas del archivo sed.txt dentro de la carpeta lorem-copy"
   ]
  },
  {
   "cell_type": "raw",
   "id": "81783d28",
   "metadata": {},
   "source": [
    "cd lorem-copy\n",
    "head -n3 sed.txt"
   ]
  },
  {
   "cell_type": "raw",
   "id": "7b0804df",
   "metadata": {},
   "source": [
    "#Visualiza las ultimas 3 líneas del archivo sed.txt dentro de la carpeta lorem-copy"
   ]
  },
  {
   "cell_type": "raw",
   "id": "efdc080b",
   "metadata": {},
   "source": [
    "cd lorem-copy\n",
    "tail -n3 sed.txt"
   ]
  },
  {
   "cell_type": "raw",
   "id": "e4d683a7",
   "metadata": {},
   "source": [
    "#Añade Homo homini lupus. al final de archivo sed.txt dentro de la carpeta lorem-copy."
   ]
  },
  {
   "cell_type": "raw",
   "id": "7ea97bfe",
   "metadata": {},
   "source": [
    "echo 'Homo homini lupus' >> sed.txt"
   ]
  },
  {
   "cell_type": "raw",
   "id": "01d9411a",
   "metadata": {},
   "source": [
    "#Visualiza las últimas 3 líneas del archivo sed.txt dentro de la carpeta lorem-copy. Deberías ver ahora Homo homini lupus.."
   ]
  },
  {
   "cell_type": "raw",
   "id": "7dd36e06",
   "metadata": {},
   "source": [
    "tail -n3 sed.txt"
   ]
  },
  {
   "cell_type": "raw",
   "id": "25148f9d",
   "metadata": {},
   "source": [
    "#Sustituye todas las apariciones de et por ET del archivo at.txt dentro de la carpeta lorem-copy. Deberás usar sed."
   ]
  },
  {
   "cell_type": "raw",
   "id": "885189fa",
   "metadata": {},
   "source": [
    "sed 's/et/ET/g' at.txt"
   ]
  },
  {
   "cell_type": "raw",
   "id": "55984bb3",
   "metadata": {},
   "source": [
    "#Encuentra al usuario activo en el sistema."
   ]
  },
  {
   "cell_type": "raw",
   "id": "dd8e95bd",
   "metadata": {},
   "source": [
    "last"
   ]
  },
  {
   "cell_type": "raw",
   "id": "89ee500b",
   "metadata": {},
   "source": [
    "#Encuentra dónde estás en tu sistema de ficheros."
   ]
  },
  {
   "cell_type": "raw",
   "id": "3d42cd0d",
   "metadata": {},
   "source": [
    "pwd"
   ]
  },
  {
   "cell_type": "raw",
   "id": "b82b3390",
   "metadata": {},
   "source": [
    "#Lista los archivos que terminan por .txt en la carpeta lorem."
   ]
  },
  {
   "cell_type": "raw",
   "id": "46fca033",
   "metadata": {},
   "source": [
    "ls"
   ]
  },
  {
   "cell_type": "raw",
   "id": "f3ee2b2c",
   "metadata": {},
   "source": [
    "#Cuenta el número de líneas que tiene el archivo sed.txt dentro de la carpeta lorem."
   ]
  },
  {
   "cell_type": "raw",
   "id": "9eb25965",
   "metadata": {},
   "source": [
    "cd lorem\n",
    "wc sed.txt"
   ]
  },
  {
   "cell_type": "raw",
   "id": "a495a12a",
   "metadata": {},
   "source": [
    "#Cuenta el número de archivos que empiezan por lorem que están en este directorio y en directorios internos."
   ]
  },
  {
   "cell_type": "raw",
   "id": "35f56676",
   "metadata": {},
   "source": [
    "find . -name lorem.txt"
   ]
  },
  {
   "cell_type": "raw",
   "id": "68197b70",
   "metadata": {},
   "source": [
    "#Encuentra todas las apariciones de et en at.txt dentro de la carpeta lorem."
   ]
  },
  {
   "cell_type": "raw",
   "id": "4e437985",
   "metadata": {},
   "source": [
    "grep -rw '/Users/maria/Desktop/nueva/1.1-lab-bash/lorem/at.txt' -e 'et' "
   ]
  },
  {
   "cell_type": "raw",
   "id": "96c800f3",
   "metadata": {},
   "source": [
    "#Cuenta el número de apariciones del string et en at.txt dentro de la carpeta lorem."
   ]
  },
  {
   "cell_type": "raw",
   "id": "575e0ead",
   "metadata": {},
   "source": [
    "grep -c '/Users/maria/Desktop/nueva/1.1-lab-bash/lorem/at.txt' -e 'et'"
   ]
  },
  {
   "cell_type": "raw",
   "id": "f46017f1",
   "metadata": {},
   "source": [
    "#Cuenta el número de apariciones del string et en todos los archivos del directorio lorem-copy."
   ]
  },
  {
   "cell_type": "raw",
   "id": "0dbbbcaf",
   "metadata": {},
   "source": [
    "grep -o 'et' lorem-copy/* | wc -l"
   ]
  }
 ],
 "metadata": {
  "kernelspec": {
   "display_name": "clase",
   "language": "python",
   "name": "clase"
  },
  "language_info": {
   "codemirror_mode": {
    "name": "ipython",
    "version": 3
   },
   "file_extension": ".py",
   "mimetype": "text/x-python",
   "name": "python",
   "nbconvert_exporter": "python",
   "pygments_lexer": "ipython3",
   "version": "3.7.13"
  }
 },
 "nbformat": 4,
 "nbformat_minor": 5
}
