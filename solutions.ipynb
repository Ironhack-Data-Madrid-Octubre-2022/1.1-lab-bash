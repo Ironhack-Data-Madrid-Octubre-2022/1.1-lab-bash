{
 "cells": [
  {
   "cell_type": "raw",
   "id": "61488157",
   "metadata": {},
   "source": [
    "#Imprime en consola Hello World."
   ]
  },
  {
   "cell_type": "raw",
   "id": "fe849290",
   "metadata": {},
   "source": [
    "echo 'Hello World'"
   ]
  },
  {
   "cell_type": "raw",
   "id": "3092facf",
   "metadata": {},
   "source": [
    "#Crea un directorio nuevo llamado new_dir."
   ]
  },
  {
   "cell_type": "raw",
   "id": "83ba6b35",
   "metadata": {},
   "source": [
    "mkdir 'new_dir'"
   ]
  },
  {
   "cell_type": "raw",
   "id": "a440a289",
   "metadata": {},
   "source": [
    "#Elimina ese directorio."
   ]
  },
  {
   "cell_type": "raw",
   "id": "691883bc",
   "metadata": {},
   "source": [
    "rm -r 'new_dir'"
   ]
  },
  {
   "cell_type": "raw",
   "id": "b282d251",
   "metadata": {},
   "source": [
    "#Copia el archivo sed.txt dentro de la carpeta lorem a la carpeta lorem-copy. TIP: Puede ser necesario crear la carpeta lorem-copy primero."
   ]
  },
  {
   "cell_type": "raw",
   "id": "5854b808",
   "metadata": {},
   "source": [
    "mkdir 'lorem-copy'\n",
    "cp /Users/maria/Desktop/nueva/1.1-lab-bash/lorem/sed.txt /Users/maria/Desktop/nueva/1.1-lab-bash/lorem-copy"
   ]
  },
  {
   "cell_type": "raw",
   "id": "d9c1a44c",
   "metadata": {},
   "source": [
    "#Copia los otros dos archivos de la carpeta lorem a la carpeta lorem-copy en una sola línea."
   ]
  },
  {
   "cell_type": "raw",
   "id": "6c262a0f",
   "metadata": {},
   "source": [
    "cp at.txt /Users/maria/Desktop/nueva/1.1-lab-bash/lorem-copy lorem.txt /Users/maria/Desktop/nueva/1.1-lab-bash/lorem-copy"
   ]
  },
  {
   "cell_type": "raw",
   "id": "3390a3ce",
   "metadata": {},
   "source": [
    "#Muestra el contenido del archivo sed.txt dentro de la carpeta lorem."
   ]
  },
  {
   "cell_type": "raw",
   "id": "25c04ead",
   "metadata": {},
   "source": [
    "cat sed.txt"
   ]
  },
  {
   "cell_type": "raw",
   "id": "92635653",
   "metadata": {},
   "source": [
    "#Muestra el contenido de los archivos at.txt y lorem.txt dentro de la carpeta lorem."
   ]
  },
  {
   "cell_type": "raw",
   "id": "ab1d005b",
   "metadata": {},
   "source": [
    "cat at.txt\n",
    "cat lorem.txt"
   ]
  },
  {
   "cell_type": "raw",
   "id": "78f34821",
   "metadata": {},
   "source": [
    "#Visualiza las primeras 3 líneas del archivo sed.txt dentro de la carpeta lorem-copy"
   ]
  },
  {
   "cell_type": "raw",
   "id": "c45859e5",
   "metadata": {},
   "source": [
    "cd lorem-copy\n",
    "head -n3 sed.txt"
   ]
  },
  {
   "cell_type": "raw",
   "id": "39468712",
   "metadata": {},
   "source": [
    "#Visualiza las ultimas 3 líneas del archivo sed.txt dentro de la carpeta lorem-copy"
   ]
  },
  {
   "cell_type": "raw",
   "id": "e8acc145",
   "metadata": {},
   "source": [
    "cd lorem-copy\n",
    "tail -n3 sed.txt"
   ]
  },
  {
   "cell_type": "raw",
   "id": "d50e8a6c",
   "metadata": {},
   "source": [
    "#Añade Homo homini lupus. al final de archivo sed.txt dentro de la carpeta lorem-copy."
   ]
  },
  {
   "cell_type": "raw",
   "id": "92a3a68f",
   "metadata": {},
   "source": [
    "echo 'Homo homini lupus' >> sed.txt"
   ]
  },
  {
   "cell_type": "raw",
   "id": "cc0999d9",
   "metadata": {},
   "source": [
    "#Visualiza las últimas 3 líneas del archivo sed.txt dentro de la carpeta lorem-copy. Deberías ver ahora Homo homini lupus.."
   ]
  },
  {
   "cell_type": "raw",
   "id": "6f57b1e6",
   "metadata": {},
   "source": [
    "tail -n3 sed.txt"
   ]
  },
  {
   "cell_type": "raw",
   "id": "68bb381a",
   "metadata": {},
   "source": [
    "#Sustituye todas las apariciones de et por ET del archivo at.txt dentro de la carpeta lorem-copy. Deberás usar sed."
   ]
  },
  {
   "cell_type": "raw",
   "id": "6fb3b998",
   "metadata": {},
   "source": [
    "sed 's/et/ET/g' at.txt"
   ]
  },
  {
   "cell_type": "raw",
   "id": "b230af20",
   "metadata": {},
   "source": [
    "#Encuentra al usuario activo en el sistema."
   ]
  },
  {
   "cell_type": "raw",
   "id": "eb0af2c4",
   "metadata": {},
   "source": [
    "last"
   ]
  },
  {
   "cell_type": "raw",
   "id": "f1214752",
   "metadata": {},
   "source": [
    "#Encuentra dónde estás en tu sistema de ficheros."
   ]
  },
  {
   "cell_type": "raw",
   "id": "75c923d5",
   "metadata": {},
   "source": [
    "pwd"
   ]
  },
  {
   "cell_type": "raw",
   "id": "157ae4f9",
   "metadata": {},
   "source": [
    "#Lista los archivos que terminan por .txt en la carpeta lorem."
   ]
  },
  {
   "cell_type": "raw",
   "id": "9e71ff55",
   "metadata": {},
   "source": [
    "ls"
   ]
  },
  {
   "cell_type": "raw",
   "id": "26168b59",
   "metadata": {},
   "source": [
    "#Cuenta el número de líneas que tiene el archivo sed.txt dentro de la carpeta lorem."
   ]
  },
  {
   "cell_type": "raw",
   "id": "04c942c4",
   "metadata": {},
   "source": [
    "cd lorem\n",
    "wc sed.txt"
   ]
  },
  {
   "cell_type": "raw",
   "id": "b7fa50b3",
   "metadata": {},
   "source": [
    "#Cuenta el número de archivos que empiezan por lorem que están en este directorio y en directorios internos."
   ]
  },
  {
   "cell_type": "raw",
   "id": "cb5abe06",
   "metadata": {},
   "source": [
    "find . -name lorem.txt"
   ]
  },
  {
   "cell_type": "raw",
   "id": "587be403",
   "metadata": {},
   "source": [
    "#Encuentra todas las apariciones de et en at.txt dentro de la carpeta lorem."
   ]
  },
  {
   "cell_type": "raw",
   "id": "0a16efad",
   "metadata": {},
   "source": [
    "grep -rw '/Users/maria/Desktop/nueva/1.1-lab-bash/lorem/at.txt' -e 'et' "
   ]
  },
  {
   "cell_type": "raw",
   "id": "896a1a1a",
   "metadata": {},
   "source": [
    "#Cuenta el número de apariciones del string et en at.txt dentro de la carpeta lorem."
   ]
  },
  {
   "cell_type": "raw",
   "id": "4c7e590a",
   "metadata": {},
   "source": [
    "grep -c '/Users/maria/Desktop/nueva/1.1-lab-bash/lorem/at.txt' -e 'et'"
   ]
  },
  {
   "cell_type": "raw",
   "id": "83abd85d",
   "metadata": {},
   "source": [
    "#Cuenta el número de apariciones del string et en todos los archivos del directorio lorem-copy."
   ]
  },
  {
   "cell_type": "raw",
   "id": "ea2ff64e",
   "metadata": {},
   "source": [
    "grep -o 'et' lorem-copy/* | wc -l"
   ]
  }
 ],
 "metadata": {
  "kernelspec": {
   "display_name": "clase",
   "language": "python",
   "name": "clase"
  },
  "language_info": {
   "codemirror_mode": {
    "name": "ipython",
    "version": 3
   },
   "file_extension": ".py",
   "mimetype": "text/x-python",
   "name": "python",
   "nbconvert_exporter": "python",
   "pygments_lexer": "ipython3",
   "version": "3.7.13"
  }
 },
 "nbformat": 4,
 "nbformat_minor": 5
}
